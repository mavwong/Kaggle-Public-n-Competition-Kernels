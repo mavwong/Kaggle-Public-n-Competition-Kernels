{
  "nbformat": 4,
  "nbformat_minor": 0,
  "metadata": {
    "colab": {
      "name": "CNN-MNIST | Tensorflow",
      "version": "0.3.2",
      "provenance": [],
      "collapsed_sections": []
    },
    "kernelspec": {
      "name": "python3",
      "display_name": "Python 3"
    }
  },
  "cells": [
    {
      "metadata": {
        "id": "9FHotXTNJB00",
        "colab_type": "code",
        "colab": {}
      },
      "cell_type": "code",
      "source": [
        "import tensorflow as tf\n",
        "import matplotlib.pyplot as plt\n",
        "\n",
        "%matplotlib inline"
      ],
      "execution_count": 0,
      "outputs": []
    },
    {
      "metadata": {
        "id": "uT7J8YYRJJEj",
        "colab_type": "code",
        "outputId": "9434a4c5-5eb9-43a0-d98d-63664a419cc7",
        "colab": {
          "base_uri": "https://localhost:8080/",
          "height": 579
        }
      },
      "cell_type": "code",
      "source": [
        "from tensorflow.examples.tutorials.mnist import input_data\n",
        "mnist = input_data.read_data_sets(\"MNIST_data/\",one_hot=True)"
      ],
      "execution_count": 2,
      "outputs": [
        {
          "output_type": "stream",
          "text": [
            "WARNING:tensorflow:From <ipython-input-2-dbc7d7efeb7a>:2: read_data_sets (from tensorflow.contrib.learn.python.learn.datasets.mnist) is deprecated and will be removed in a future version.\n",
            "Instructions for updating:\n",
            "Please use alternatives such as official/mnist/dataset.py from tensorflow/models.\n",
            "WARNING:tensorflow:From /usr/local/lib/python3.6/dist-packages/tensorflow/contrib/learn/python/learn/datasets/mnist.py:260: maybe_download (from tensorflow.contrib.learn.python.learn.datasets.base) is deprecated and will be removed in a future version.\n",
            "Instructions for updating:\n",
            "Please write your own downloading logic.\n",
            "WARNING:tensorflow:From /usr/local/lib/python3.6/dist-packages/tensorflow/contrib/learn/python/learn/datasets/base.py:252: _internal_retry.<locals>.wrap.<locals>.wrapped_fn (from tensorflow.contrib.learn.python.learn.datasets.base) is deprecated and will be removed in a future version.\n",
            "Instructions for updating:\n",
            "Please use urllib or similar directly.\n",
            "Successfully downloaded train-images-idx3-ubyte.gz 9912422 bytes.\n",
            "WARNING:tensorflow:From /usr/local/lib/python3.6/dist-packages/tensorflow/contrib/learn/python/learn/datasets/mnist.py:262: extract_images (from tensorflow.contrib.learn.python.learn.datasets.mnist) is deprecated and will be removed in a future version.\n",
            "Instructions for updating:\n",
            "Please use tf.data to implement this functionality.\n",
            "Extracting MNIST_data/train-images-idx3-ubyte.gz\n",
            "Successfully downloaded train-labels-idx1-ubyte.gz 28881 bytes.\n",
            "WARNING:tensorflow:From /usr/local/lib/python3.6/dist-packages/tensorflow/contrib/learn/python/learn/datasets/mnist.py:267: extract_labels (from tensorflow.contrib.learn.python.learn.datasets.mnist) is deprecated and will be removed in a future version.\n",
            "Instructions for updating:\n",
            "Please use tf.data to implement this functionality.\n",
            "Extracting MNIST_data/train-labels-idx1-ubyte.gz\n",
            "WARNING:tensorflow:From /usr/local/lib/python3.6/dist-packages/tensorflow/contrib/learn/python/learn/datasets/mnist.py:110: dense_to_one_hot (from tensorflow.contrib.learn.python.learn.datasets.mnist) is deprecated and will be removed in a future version.\n",
            "Instructions for updating:\n",
            "Please use tf.one_hot on tensors.\n",
            "Successfully downloaded t10k-images-idx3-ubyte.gz 1648877 bytes.\n",
            "Extracting MNIST_data/t10k-images-idx3-ubyte.gz\n",
            "Successfully downloaded t10k-labels-idx1-ubyte.gz 4542 bytes.\n",
            "Extracting MNIST_data/t10k-labels-idx1-ubyte.gz\n",
            "WARNING:tensorflow:From /usr/local/lib/python3.6/dist-packages/tensorflow/contrib/learn/python/learn/datasets/mnist.py:290: DataSet.__init__ (from tensorflow.contrib.learn.python.learn.datasets.mnist) is deprecated and will be removed in a future version.\n",
            "Instructions for updating:\n",
            "Please use alternatives such as official/mnist/dataset.py from tensorflow/models.\n"
          ],
          "name": "stdout"
        }
      ]
    },
    {
      "metadata": {
        "id": "DYm55CC9JSZR",
        "colab_type": "code",
        "outputId": "5794cea4-e841-411e-eab8-f6f94ae9943c",
        "colab": {
          "base_uri": "https://localhost:8080/",
          "height": 36
        }
      },
      "cell_type": "code",
      "source": [
        "### Input Parameters\n",
        "def create_placeholders():\n",
        "    x = tf.placeholder(dtype=tf.float32, shape=[None,784])\n",
        "    y_true = tf.placeholder(dtype=tf.float32, shape=[None,10])\n",
        "    return x, y_true\n",
        "\n",
        "  \n",
        "  \n",
        "### Helper Function\n",
        "def initialize_weights(shape):\n",
        "  init_random_dist = tf.truncated_normal(shape, stddev=0.1, initializer=tf.contrib.layers.xavier_initializer())\n",
        "  return tf.Variable(init_random_dist)\n",
        "\n",
        "def initialize_bias(shape):\n",
        "  init_bias_vals = tf.constant(0.1, shape=shape)\n",
        "  return tf.Variable(init_bias_vals)\n",
        "\n",
        "def convolution_2d(x, W, stride=1):\n",
        "  return tf.nn.conv2d(input=x, filter=W, strides=[1, stride, stride, 1], padding='SAME', name=None)\n",
        "\n",
        "def convolution_layer(x, shape, activation='relu'):\n",
        "  W = initialize_weights(shape)\n",
        "  b = initialize_bias(len(shape))\n",
        "  if activation=='leaky_relu':\n",
        "    return tf.nn.leaky_relu(convolution_2d(x, W) + b)\n",
        "  return tf.nn.relu(convolution_2d(x, W) + b)\n",
        "\n",
        "#avg pooling or max pooling with 2 strides\n",
        "def pooling_2d(x, pooling_type='max_pooling', size=2, stride=2):\n",
        "  if pooling_type == 'avg_pooling':\n",
        "    return tf.nn.avg_pool(x, ksize=[1,size,size,1], strides=[1, stride, stride,1], padding='SAME', name=None)\n",
        "  return tf.nn.max_pool(x, ksize=[1,size,size,1], strides=[1, stride, stride,1], padding='SAME', name=None)\n",
        "\n",
        "def cost(Z3, Y):\n",
        "  return tf.reduce_mean(tf.nn.softmax_cross_entropy_with_logits_v2(logits=Z3, labels=Y), name=None)\n",
        "\n",
        "def reshape_image(x, size=28):\n",
        "  return tf.reshape(x,[-1, size, size, 1])"
      ],
      "execution_count": 131,
      "outputs": [
        {
          "output_type": "execute_result",
          "data": {
            "text/plain": [
              "'\\ndef forward_propagation: return None\\ndef training_network: return None\\n'"
            ]
          },
          "metadata": {
            "tags": []
          },
          "execution_count": 131
        }
      ]
    },
    {
      "metadata": {
        "id": "x-G6phEiIP-a",
        "colab_type": "code",
        "colab": {}
      },
      "cell_type": "code",
      "source": [
        "#Hyperparameters\n",
        "hyperparameters = {'learning_rate': 0.0001, \n",
        "                   'num_epochs': 5000, \n",
        "                   'print_cost': True}"
      ],
      "execution_count": 0,
      "outputs": []
    },
    {
      "metadata": {
        "id": "VRLjKgrKIfVM",
        "colab_type": "code",
        "colab": {}
      },
      "cell_type": "code",
      "source": [
        "#Training the Network\n",
        "def training_network(mnist, hyperparameters):\n",
        "  \n",
        "  learning_rate = hyperparameters['learning_rate']\n",
        "  num_epoch = hyperparameters['num_epochs']\n",
        "  print_cost = hyperparameters['print_cost']\n",
        "  \n",
        "  x, y = create_placeholder()\n",
        "  x_image = reshape_image(x)\n",
        "  \n",
        "  conv_1 = convolutional_layer(x_image,shape=[6,6,1,32])\n",
        "  conv_1_pooling = pooling_2d(conv_1)\n",
        "  \n",
        "  conv_2 = convolutional_layer(conv_1_pooling,shape=[6,6,32,64])\n",
        "  conv_2_pooling = pooling_2d(conv_2)\n",
        "  \n",
        "  conv_2_flat = tf.reshape(conv_2_pooling,[-1,7*7*64])\n",
        "  full_layer_one = tf.nn.relu(normal_full_layer(conv_2_flat,1024))\n",
        "  \n",
        "  hold_prob = tf.placeholder(tf.float32)\n",
        "  full_one_dropout = tf.nn.dropout(full_layer_one,keep_prob=hold_prob)\n",
        "  \n",
        "  y_pred = normal_full_layer(full_one_dropout,10)\n",
        "  \n",
        "  cost_fn = tf.reduce_mean(tf.nn.softmax_cross_entropy_with_logits(labels=y_true,\n",
        "                                                                    logits=y_pred))\n",
        "  \n",
        "  train = tf.train.AdamOptimizer(learning_rate = learning_rate).minimize(cost_fn)\n",
        "  \n",
        "  init = tf.global_variables_initializer()\n",
        "\n",
        "  with tf.Session() as sess:\n",
        "      sess.run(init)\n",
        "      for i in range(num_epoch):\n",
        "          batch_x , batch_y = mnist.train.next_batch(50)\n",
        "          sess.run(train,feed_dict={x:batch_x,\n",
        "                                    y_true:batch_y, \n",
        "                                    hold_prob:0.5})\n",
        "          \n",
        "          if print_cost == True and i%50 == 0:\n",
        "              print('Currently on step {}'.format(i))\n",
        "              print('Accuracy is:')\n",
        "\n",
        "              matches = tf.equal(tf.argmax(y_pred,1),tf.argmax(y_true,1))\n",
        "              acc = tf.reduce_mean(tf.cast(matches,tf.float32))\n",
        "\n",
        "              print(sess.run(acc,feed_dict={x:mnist.test.images,y_true:mnist.test.labels, hold_prob:1.0}))\n",
        "              print('\\n')\n",
        "              \n",
        "      plt.plot(np.squeeze(costs))\n",
        "      plt.ylabel('cost')\n",
        "      plt.xlabel('iterations (per tens)')\n",
        "      plt.title(\"Learning rate =\" + str(learning_rate))\n",
        "      plt.show() "
      ],
      "execution_count": 0,
      "outputs": []
    },
    {
      "metadata": {
        "id": "AdpYMa0cf0Rj",
        "colab_type": "code",
        "colab": {}
      },
      "cell_type": "code",
      "source": [
        "training_network(mnist)"
      ],
      "execution_count": 0,
      "outputs": []
    }
  ]
}