{
  "nbformat": 4,
  "nbformat_minor": 0,
  "metadata": {
    "colab": {
      "name": "MNIST",
      "version": "0.3.2",
      "provenance": [],
      "collapsed_sections": []
    },
    "kernelspec": {
      "name": "python3",
      "display_name": "Python 3"
    },
    "accelerator": "GPU"
  },
  "cells": [
    {
      "cell_type": "markdown",
      "metadata": {
        "id": "P60UVXEYyPXD",
        "colab_type": "text"
      },
      "source": [
        "## Installing and Importing the Dependencies"
      ]
    },
    {
      "cell_type": "code",
      "metadata": {
        "id": "BZ1C4fpuvxWc",
        "colab_type": "code",
        "colab": {
          "base_uri": "https://localhost:8080/",
          "height": 407
        },
        "outputId": "645cb4c7-bc8e-42fc-dbed-43991821b9ee"
      },
      "source": [
        "!pip install tensorflow==2.0.0-beta1 \n",
        "# Load the TensorBoard notebook extension.\n",
        "%load_ext tensorboard"
      ],
      "execution_count": 1,
      "outputs": [
        {
          "output_type": "stream",
          "text": [
            "Requirement already satisfied: tensorflow==2.0.0-beta1 in /usr/local/lib/python3.6/dist-packages (2.0.0b1)\n",
            "Requirement already satisfied: gast>=0.2.0 in /usr/local/lib/python3.6/dist-packages (from tensorflow==2.0.0-beta1) (0.2.2)\n",
            "Requirement already satisfied: grpcio>=1.8.6 in /usr/local/lib/python3.6/dist-packages (from tensorflow==2.0.0-beta1) (1.15.0)\n",
            "Requirement already satisfied: absl-py>=0.7.0 in /usr/local/lib/python3.6/dist-packages (from tensorflow==2.0.0-beta1) (0.7.1)\n",
            "Requirement already satisfied: tb-nightly<1.14.0a20190604,>=1.14.0a20190603 in /usr/local/lib/python3.6/dist-packages (from tensorflow==2.0.0-beta1) (1.14.0a20190603)\n",
            "Requirement already satisfied: numpy<2.0,>=1.14.5 in /usr/local/lib/python3.6/dist-packages (from tensorflow==2.0.0-beta1) (1.16.4)\n",
            "Requirement already satisfied: protobuf>=3.6.1 in /usr/local/lib/python3.6/dist-packages (from tensorflow==2.0.0-beta1) (3.7.1)\n",
            "Requirement already satisfied: keras-applications>=1.0.6 in /usr/local/lib/python3.6/dist-packages (from tensorflow==2.0.0-beta1) (1.0.8)\n",
            "Requirement already satisfied: wheel>=0.26 in /usr/local/lib/python3.6/dist-packages (from tensorflow==2.0.0-beta1) (0.33.4)\n",
            "Requirement already satisfied: google-pasta>=0.1.6 in /usr/local/lib/python3.6/dist-packages (from tensorflow==2.0.0-beta1) (0.1.7)\n",
            "Requirement already satisfied: tf-estimator-nightly<1.14.0.dev2019060502,>=1.14.0.dev2019060501 in /usr/local/lib/python3.6/dist-packages (from tensorflow==2.0.0-beta1) (1.14.0.dev2019060501)\n",
            "Requirement already satisfied: keras-preprocessing>=1.0.5 in /usr/local/lib/python3.6/dist-packages (from tensorflow==2.0.0-beta1) (1.1.0)\n",
            "Requirement already satisfied: wrapt>=1.11.1 in /usr/local/lib/python3.6/dist-packages (from tensorflow==2.0.0-beta1) (1.11.1)\n",
            "Requirement already satisfied: termcolor>=1.1.0 in /usr/local/lib/python3.6/dist-packages (from tensorflow==2.0.0-beta1) (1.1.0)\n",
            "Requirement already satisfied: six>=1.10.0 in /usr/local/lib/python3.6/dist-packages (from tensorflow==2.0.0-beta1) (1.12.0)\n",
            "Requirement already satisfied: astor>=0.6.0 in /usr/local/lib/python3.6/dist-packages (from tensorflow==2.0.0-beta1) (0.8.0)\n",
            "Requirement already satisfied: werkzeug>=0.11.15 in /usr/local/lib/python3.6/dist-packages (from tb-nightly<1.14.0a20190604,>=1.14.0a20190603->tensorflow==2.0.0-beta1) (0.15.4)\n",
            "Requirement already satisfied: setuptools>=41.0.0 in /usr/local/lib/python3.6/dist-packages (from tb-nightly<1.14.0a20190604,>=1.14.0a20190603->tensorflow==2.0.0-beta1) (41.0.1)\n",
            "Requirement already satisfied: markdown>=2.6.8 in /usr/local/lib/python3.6/dist-packages (from tb-nightly<1.14.0a20190604,>=1.14.0a20190603->tensorflow==2.0.0-beta1) (3.1.1)\n",
            "Requirement already satisfied: h5py in /usr/local/lib/python3.6/dist-packages (from keras-applications>=1.0.6->tensorflow==2.0.0-beta1) (2.8.0)\n"
          ],
          "name": "stdout"
        }
      ]
    },
    {
      "cell_type": "code",
      "metadata": {
        "id": "yJU-iuZwwfU2",
        "colab_type": "code",
        "colab": {}
      },
      "source": [
        "import os\n",
        "import random\n",
        "import datetime\n",
        "\n",
        "import numpy as np\n",
        "import tensorflow as tf\n",
        "\n",
        "from tensorflow import keras as krs\n",
        "from tensorflow.keras.callbacks import ModelCheckpoint, CSVLogger"
      ],
      "execution_count": 0,
      "outputs": []
    },
    {
      "cell_type": "code",
      "metadata": {
        "id": "r05JEeER1cl7",
        "colab_type": "code",
        "colab": {}
      },
      "source": [
        "# Clear any logs from previous runs\n",
        "!rm -rf ./logs/"
      ],
      "execution_count": 0,
      "outputs": []
    },
    {
      "cell_type": "markdown",
      "metadata": {
        "id": "573DkuCnxce9",
        "colab_type": "text"
      },
      "source": [
        "## Data, Data Generator and Augmentation"
      ]
    },
    {
      "cell_type": "code",
      "metadata": {
        "id": "soTEZtlE45la",
        "colab_type": "code",
        "colab": {}
      },
      "source": [
        "mnist = tf.keras.datasets.mnist\n",
        "\n",
        "(training_images, training_labels), (test_images, test_labels) = mnist.load_data()\n",
        "\n",
        "training_images=training_images.reshape(60000, 28, 28, 1)\n",
        "training_images=training_images / 255.0\n",
        "\n",
        "test_images = test_images.reshape(10000, 28, 28, 1)\n",
        "test_images=test_images/255.0"
      ],
      "execution_count": 0,
      "outputs": []
    },
    {
      "cell_type": "markdown",
      "metadata": {
        "id": "Sklh8LRqxRyW",
        "colab_type": "text"
      },
      "source": [
        "## Creating the Model"
      ]
    },
    {
      "cell_type": "code",
      "metadata": {
        "id": "KnDodEBL9vcz",
        "colab_type": "code",
        "colab": {}
      },
      "source": [
        "def create_model(summary=False, name=None):\n",
        "  model = tf.keras.models.Sequential([\n",
        "    krs.layers.Conv2D(32, (3,3), activation='relu', input_shape=(28, 28, 1)),\n",
        "    krs.layers.MaxPooling2D(2, 2),\n",
        "    krs.layers.Flatten(),\n",
        "    krs.layers.Dense(128, activation='relu'),\n",
        "    krs.layers.Dense(64, activation='relu'),\n",
        "    krs.layers.Dense(10, activation='softmax')\n",
        "  ], name=name)\n",
        "  if summary==True:\n",
        "    model.summary()\n",
        "  return model"
      ],
      "execution_count": 0,
      "outputs": []
    },
    {
      "cell_type": "code",
      "metadata": {
        "id": "BeddliC4zQoD",
        "colab_type": "code",
        "colab": {
          "base_uri": "https://localhost:8080/",
          "height": 387
        },
        "outputId": "b2272b20-f08e-4edc-9dc0-f74a3b7a61f9"
      },
      "source": [
        "model = create_model(summary=True)"
      ],
      "execution_count": 6,
      "outputs": [
        {
          "output_type": "stream",
          "text": [
            "Model: \"sequential\"\n",
            "_________________________________________________________________\n",
            "Layer (type)                 Output Shape              Param #   \n",
            "=================================================================\n",
            "conv2d (Conv2D)              (None, 26, 26, 32)        320       \n",
            "_________________________________________________________________\n",
            "max_pooling2d (MaxPooling2D) (None, 13, 13, 32)        0         \n",
            "_________________________________________________________________\n",
            "flatten (Flatten)            (None, 5408)              0         \n",
            "_________________________________________________________________\n",
            "dense (Dense)                (None, 128)               692352    \n",
            "_________________________________________________________________\n",
            "dense_1 (Dense)              (None, 64)                8256      \n",
            "_________________________________________________________________\n",
            "dense_2 (Dense)              (None, 10)                650       \n",
            "=================================================================\n",
            "Total params: 701,578\n",
            "Trainable params: 701,578\n",
            "Non-trainable params: 0\n",
            "_________________________________________________________________\n"
          ],
          "name": "stdout"
        }
      ]
    },
    {
      "cell_type": "markdown",
      "metadata": {
        "id": "ACt_jcFJ1FWT",
        "colab_type": "text"
      },
      "source": [
        "## Callbacks"
      ]
    },
    {
      "cell_type": "code",
      "metadata": {
        "id": "blmzo2uu1x8o",
        "colab_type": "code",
        "colab": {
          "base_uri": "https://localhost:8080/",
          "height": 74
        },
        "outputId": "bd90bfdc-c97e-4b21-cbbd-8a716cdaef32"
      },
      "source": [
        "log_dir=\"logs/fit\" + datetime.datetime.now().strftime(\"%Y%m%d-%H%M%S\")\n",
        "chkpoint = './base.model'\n",
        "train_csv = \"training_csv.log\"\n",
        "\n",
        "checkpoint = ModelCheckpoint(\n",
        "    chkpoint,\n",
        "    monitor='val_loss',\n",
        "    verbose=1,\n",
        "    save_best_only=True,\n",
        "    mode='min',\n",
        "    save_weights_only=False,\n",
        "    period=1\n",
        ")\n",
        "\n",
        "csvlogger = CSVLogger(\n",
        "    filename= train_csv,\n",
        "    separator = \",\",\n",
        "    append = False\n",
        ")\n",
        "\n",
        "tensorboard_callback = tf.keras.callbacks.TensorBoard(log_dir=log_dir, histogram_freq=1)"
      ],
      "execution_count": 7,
      "outputs": [
        {
          "output_type": "stream",
          "text": [
            "WARNING: Logging before flag parsing goes to stderr.\n",
            "W0622 21:02:18.039998 140443495036800 callbacks.py:859] `period` argument is deprecated. Please use `save_freq` to specify the frequency in number of samples seen.\n"
          ],
          "name": "stderr"
        }
      ]
    },
    {
      "cell_type": "code",
      "metadata": {
        "id": "cLau3q7l1HRq",
        "colab_type": "code",
        "colab": {}
      },
      "source": [
        "callbacks = [tensorboard_callback]"
      ],
      "execution_count": 0,
      "outputs": []
    },
    {
      "cell_type": "markdown",
      "metadata": {
        "id": "q5NR2F_zxUwO",
        "colab_type": "text"
      },
      "source": [
        "## Tuning, Compiling and Training"
      ]
    },
    {
      "cell_type": "code",
      "metadata": {
        "id": "Xh1NNpsHyI45",
        "colab_type": "code",
        "colab": {}
      },
      "source": [
        "# Hyperparameters\n",
        "total_data = 60000\n",
        "lr = 0.0001\n",
        "n_epochs = 50\n",
        "steps_epoch = total_data / 4\n",
        "verbosity = 1\n",
        "\n",
        "\n",
        "# Compiling the Model\n",
        "model.compile(optimizer=krs.optimizers.Adam(lr=lr),\n",
        "              loss='sparse_categorical_crossentropy',\n",
        "              metrics=['accuracy'])"
      ],
      "execution_count": 0,
      "outputs": []
    },
    {
      "cell_type": "code",
      "metadata": {
        "id": "MdnYC8rN73Sf",
        "colab_type": "code",
        "colab": {
          "base_uri": "https://localhost:8080/",
          "height": 1963
        },
        "outputId": "7b85887e-ebe7-4039-ba43-c335e85a2c0b"
      },
      "source": [
        "training = model.fit(training_images, \n",
        "                     training_labels, \n",
        "                     epochs=n_epochs,\n",
        "                     #steps_per_epoch=steps_epoch,\n",
        "                     verbose=verbosity,\n",
        "                     callbacks=callbacks)"
      ],
      "execution_count": 10,
      "outputs": [
        {
          "output_type": "stream",
          "text": [
            "W0622 21:02:18.168382 140443495036800 deprecation.py:323] From /usr/local/lib/python3.6/dist-packages/tensorflow/python/ops/math_grad.py:1250: add_dispatch_support.<locals>.wrapper (from tensorflow.python.ops.array_ops) is deprecated and will be removed in a future version.\n",
            "Instructions for updating:\n",
            "Use tf.where in 2.0, which has the same broadcast rule as np.where\n"
          ],
          "name": "stderr"
        },
        {
          "output_type": "stream",
          "text": [
            "Train on 60000 samples\n",
            "Epoch 1/50\n",
            "60000/60000 [==============================] - 27s 452us/sample - loss: 0.3707 - accuracy: 0.9010\n",
            "Epoch 2/50\n",
            "60000/60000 [==============================] - 27s 445us/sample - loss: 0.1439 - accuracy: 0.9582\n",
            "Epoch 3/50\n",
            "60000/60000 [==============================] - 27s 442us/sample - loss: 0.0969 - accuracy: 0.9717\n",
            "Epoch 4/50\n",
            "60000/60000 [==============================] - 26s 439us/sample - loss: 0.0720 - accuracy: 0.9789\n",
            "Epoch 5/50\n",
            "60000/60000 [==============================] - 26s 437us/sample - loss: 0.0581 - accuracy: 0.9832\n",
            "Epoch 6/50\n",
            "60000/60000 [==============================] - 26s 433us/sample - loss: 0.0483 - accuracy: 0.9863\n",
            "Epoch 7/50\n",
            "60000/60000 [==============================] - 26s 437us/sample - loss: 0.0416 - accuracy: 0.9879\n",
            "Epoch 8/50\n",
            "60000/60000 [==============================] - 26s 440us/sample - loss: 0.0356 - accuracy: 0.9897\n",
            "Epoch 9/50\n",
            "60000/60000 [==============================] - 26s 434us/sample - loss: 0.0305 - accuracy: 0.9914\n",
            "Epoch 10/50\n",
            "60000/60000 [==============================] - 26s 434us/sample - loss: 0.0270 - accuracy: 0.9924\n",
            "Epoch 11/50\n",
            "60000/60000 [==============================] - 26s 434us/sample - loss: 0.0238 - accuracy: 0.9930\n",
            "Epoch 12/50\n",
            "60000/60000 [==============================] - 26s 429us/sample - loss: 0.0207 - accuracy: 0.9945\n",
            "Epoch 13/50\n",
            "60000/60000 [==============================] - 26s 437us/sample - loss: 0.0184 - accuracy: 0.9951\n",
            "Epoch 14/50\n",
            "60000/60000 [==============================] - 26s 434us/sample - loss: 0.0156 - accuracy: 0.9957\n",
            "Epoch 15/50\n",
            "60000/60000 [==============================] - 26s 430us/sample - loss: 0.0136 - accuracy: 0.9966\n",
            "Epoch 16/50\n",
            "60000/60000 [==============================] - 26s 427us/sample - loss: 0.0119 - accuracy: 0.9969\n",
            "Epoch 17/50\n",
            "60000/60000 [==============================] - 26s 433us/sample - loss: 0.0108 - accuracy: 0.9971\n",
            "Epoch 18/50\n",
            "60000/60000 [==============================] - 26s 436us/sample - loss: 0.0096 - accuracy: 0.9976\n",
            "Epoch 19/50\n",
            "60000/60000 [==============================] - 26s 436us/sample - loss: 0.0079 - accuracy: 0.9981\n",
            "Epoch 20/50\n",
            "60000/60000 [==============================] - 26s 437us/sample - loss: 0.0073 - accuracy: 0.9982\n",
            "Epoch 21/50\n",
            "60000/60000 [==============================] - 26s 441us/sample - loss: 0.0058 - accuracy: 0.9988\n",
            "Epoch 22/50\n",
            "60000/60000 [==============================] - 26s 437us/sample - loss: 0.0052 - accuracy: 0.9989\n",
            "Epoch 23/50\n",
            "60000/60000 [==============================] - 26s 438us/sample - loss: 0.0049 - accuracy: 0.9989\n",
            "Epoch 24/50\n",
            "60000/60000 [==============================] - 25s 422us/sample - loss: 0.0040 - accuracy: 0.9992\n",
            "Epoch 25/50\n",
            "60000/60000 [==============================] - 26s 435us/sample - loss: 0.0032 - accuracy: 0.9995\n",
            "Epoch 26/50\n",
            "60000/60000 [==============================] - 26s 432us/sample - loss: 0.0032 - accuracy: 0.9994\n",
            "Epoch 27/50\n",
            "60000/60000 [==============================] - 26s 427us/sample - loss: 0.0028 - accuracy: 0.9995\n",
            "Epoch 28/50\n",
            "60000/60000 [==============================] - 26s 426us/sample - loss: 0.0027 - accuracy: 0.9994\n",
            "Epoch 29/50\n",
            "60000/60000 [==============================] - 26s 429us/sample - loss: 0.0021 - accuracy: 0.9997\n",
            "Epoch 30/50\n",
            "60000/60000 [==============================] - 26s 426us/sample - loss: 0.0020 - accuracy: 0.9995\n",
            "Epoch 31/50\n",
            "60000/60000 [==============================] - 25s 424us/sample - loss: 0.0023 - accuracy: 0.9994\n",
            "Epoch 32/50\n",
            "60000/60000 [==============================] - 26s 427us/sample - loss: 0.0016 - accuracy: 0.9997\n",
            "Epoch 33/50\n",
            "60000/60000 [==============================] - 26s 427us/sample - loss: 0.0011 - accuracy: 0.9998\n",
            "Epoch 34/50\n",
            "60000/60000 [==============================] - 25s 425us/sample - loss: 0.0026 - accuracy: 0.9992\n",
            "Epoch 35/50\n",
            "60000/60000 [==============================] - 26s 430us/sample - loss: 9.0598e-04 - accuracy: 0.9998\n",
            "Epoch 36/50\n",
            "60000/60000 [==============================] - 26s 434us/sample - loss: 6.8573e-04 - accuracy: 1.0000\n",
            "Epoch 37/50\n",
            "60000/60000 [==============================] - 26s 437us/sample - loss: 0.0020 - accuracy: 0.9995\n",
            "Epoch 38/50\n",
            "60000/60000 [==============================] - 26s 430us/sample - loss: 4.2039e-04 - accuracy: 1.0000\n",
            "Epoch 39/50\n",
            "60000/60000 [==============================] - 26s 428us/sample - loss: 0.0018 - accuracy: 0.9995\n",
            "Epoch 40/50\n",
            "60000/60000 [==============================] - 25s 425us/sample - loss: 5.0438e-04 - accuracy: 1.0000\n",
            "Epoch 41/50\n",
            "60000/60000 [==============================] - 25s 423us/sample - loss: 0.0013 - accuracy: 0.9997\n",
            "Epoch 42/50\n",
            "60000/60000 [==============================] - 25s 424us/sample - loss: 8.3461e-04 - accuracy: 0.9998\n",
            "Epoch 43/50\n",
            "60000/60000 [==============================] - 25s 421us/sample - loss: 2.4464e-04 - accuracy: 1.0000\n",
            "Epoch 44/50\n",
            "60000/60000 [==============================] - 25s 420us/sample - loss: 0.0014 - accuracy: 0.9995\n",
            "Epoch 45/50\n",
            "60000/60000 [==============================] - 25s 425us/sample - loss: 4.6810e-04 - accuracy: 0.9999\n",
            "Epoch 46/50\n",
            "60000/60000 [==============================] - 25s 419us/sample - loss: 4.3700e-04 - accuracy: 0.9999\n",
            "Epoch 47/50\n",
            "60000/60000 [==============================] - 25s 422us/sample - loss: 7.7865e-04 - accuracy: 0.9998\n",
            "Epoch 48/50\n",
            "60000/60000 [==============================] - 25s 424us/sample - loss: 1.2672e-04 - accuracy: 1.0000\n",
            "Epoch 49/50\n",
            "60000/60000 [==============================] - 26s 427us/sample - loss: 0.0017 - accuracy: 0.9994\n",
            "Epoch 50/50\n",
            "60000/60000 [==============================] - 26s 426us/sample - loss: 2.4675e-04 - accuracy: 1.0000\n"
          ],
          "name": "stdout"
        }
      ]
    },
    {
      "cell_type": "markdown",
      "metadata": {
        "id": "9c1VrBESyJvn",
        "colab_type": "text"
      },
      "source": [
        "## Showing the Results"
      ]
    },
    {
      "cell_type": "code",
      "metadata": {
        "id": "P_ESgRVgFASr",
        "colab_type": "code",
        "colab": {
          "base_uri": "https://localhost:8080/",
          "height": 36
        },
        "outputId": "7f498f19-fded-4273-f883-1ac3d28dc6a4"
      },
      "source": [
        "# Starting Tensorboard\n",
        "%tensorboard --logdir logs/fit"
      ],
      "execution_count": 14,
      "outputs": [
        {
          "output_type": "display_data",
          "data": {
            "text/plain": [
              "Reusing TensorBoard on port 6006 (pid 655), started 0:01:10 ago. (Use '!kill 655' to kill it.)"
            ]
          },
          "metadata": {
            "tags": []
          }
        },
        {
          "output_type": "display_data",
          "data": {
            "text/html": [
              "\n",
              "    <div id=\"root\"></div>\n",
              "    <script>\n",
              "      (function() {\n",
              "        window.TENSORBOARD_ENV = window.TENSORBOARD_ENV || {};\n",
              "        window.TENSORBOARD_ENV[\"IN_COLAB\"] = true;\n",
              "        document.querySelector(\"base\").href = \"https://localhost:6006\";\n",
              "        function fixUpTensorboard(root) {\n",
              "          const tftb = root.querySelector(\"tf-tensorboard\");\n",
              "          // Disable the fragment manipulation behavior in Colab. Not\n",
              "          // only is the behavior not useful (as the iframe's location\n",
              "          // is not visible to the user), it causes TensorBoard's usage\n",
              "          // of `window.replace` to navigate away from the page and to\n",
              "          // the `localhost:<port>` URL specified by the base URI, which\n",
              "          // in turn causes the frame to (likely) crash.\n",
              "          tftb.removeAttribute(\"use-hash\");\n",
              "        }\n",
              "        function executeAllScripts(root) {\n",
              "          // When `script` elements are inserted into the DOM by\n",
              "          // assigning to an element's `innerHTML`, the scripts are not\n",
              "          // executed. Thus, we manually re-insert these scripts so that\n",
              "          // TensorBoard can initialize itself.\n",
              "          for (const script of root.querySelectorAll(\"script\")) {\n",
              "            const newScript = document.createElement(\"script\");\n",
              "            newScript.type = script.type;\n",
              "            newScript.textContent = script.textContent;\n",
              "            root.appendChild(newScript);\n",
              "            script.remove();\n",
              "          }\n",
              "        }\n",
              "        function setHeight(root, height) {\n",
              "          // We set the height dynamically after the TensorBoard UI has\n",
              "          // been initialized. This avoids an intermediate state in\n",
              "          // which the container plus the UI become taller than the\n",
              "          // final width and cause the Colab output frame to be\n",
              "          // permanently resized, eventually leading to an empty\n",
              "          // vertical gap below the TensorBoard UI. It's not clear\n",
              "          // exactly what causes this problematic intermediate state,\n",
              "          // but setting the height late seems to fix it.\n",
              "          root.style.height = `${height}px`;\n",
              "        }\n",
              "        const root = document.getElementById(\"root\");\n",
              "        fetch(\".\")\n",
              "          .then((x) => x.text())\n",
              "          .then((html) => void (root.innerHTML = html))\n",
              "          .then(() => fixUpTensorboard(root))\n",
              "          .then(() => executeAllScripts(root))\n",
              "          .then(() => setHeight(root, 800));\n",
              "      })();\n",
              "    </script>\n",
              "  "
            ],
            "text/plain": [
              "<IPython.core.display.HTML object>"
            ]
          },
          "metadata": {
            "tags": []
          }
        }
      ]
    },
    {
      "cell_type": "markdown",
      "metadata": {
        "id": "hQp24g3fy5ZX",
        "colab_type": "text"
      },
      "source": [
        "## Saving and Loading the Results"
      ]
    },
    {
      "cell_type": "code",
      "metadata": {
        "id": "7TrrPkRc_4R8",
        "colab_type": "code",
        "colab": {}
      },
      "source": [
        "## Saving and Loading the WEIGHTS\n",
        "model.save_weights('my_model_weights.h5')\n",
        "model.load_weights('my_model_weights.h5')"
      ],
      "execution_count": 0,
      "outputs": []
    },
    {
      "cell_type": "code",
      "metadata": {
        "id": "GS8-P0lb_8vn",
        "colab_type": "code",
        "colab": {}
      },
      "source": [
        "# Saving and Loading the whole model (ARCHITECTURE + WEIGHTS + OPTIMIZER STATE)\n",
        "model.save('my_model.h5')  # creates a HDF5 file 'my_model.h5'\n",
        "del model  # deletes the existing model\n",
        "\n",
        "# returns a compiled model\n",
        "# identical to the previous one\n",
        "#model = load_model('my_model.h5')"
      ],
      "execution_count": 0,
      "outputs": []
    },
    {
      "cell_type": "code",
      "metadata": {
        "id": "kI8L1QARArBa",
        "colab_type": "code",
        "colab": {}
      },
      "source": [
        ""
      ],
      "execution_count": 0,
      "outputs": []
    }
  ]
}